{
 "cells": [
  {
   "cell_type": "code",
   "execution_count": 2,
   "id": "5e60c80e-61b9-4ba6-8361-d3ab3cef5d0b",
   "metadata": {},
   "outputs": [],
   "source": [
    "import tensorflow as tf\n",
    "import pandas as pd\n",
    "import numpy as np\n",
    "import matplotlib.pyplot as plt\n",
    "from tensorflow import keras\n",
    "from tensorflow.keras import datasets, models, layers"
   ]
  },
  {
   "cell_type": "markdown",
   "id": "3348429f-d435-4eea-914f-c0178c12e585",
   "metadata": {},
   "source": [
    "Importing necessary libraries for implementing the LetNet-5 research paper"
   ]
  },
  {
   "cell_type": "code",
   "execution_count": 3,
   "id": "a860cc4f-3bf5-47ca-9f2b-48ac87688951",
   "metadata": {},
   "outputs": [],
   "source": [
    "(X_train, y_train),(X_test, y_test) = datasets.mnist.load_data()"
   ]
  },
  {
   "cell_type": "markdown",
   "id": "e9766d06-587c-46b8-8665-8720c0ad4883",
   "metadata": {},
   "source": [
    "The paper makes use of MNIST dataset for model development, which has been pre-partitioned into train and test categories"
   ]
  },
  {
   "cell_type": "code",
   "execution_count": 4,
   "id": "1d161c72-be03-4b9e-b276-3d6986c2c74e",
   "metadata": {},
   "outputs": [],
   "source": [
    "X_train = tf.pad(X_train[..., None] / 255.0, [[0,0],[2,2],[2,2],[0,0]])\n",
    "X_test  = tf.pad(X_test[..., None]  / 255.0, [[0,0],[2,2],[2,2],[0,0]])"
   ]
  },
  {
   "cell_type": "markdown",
   "id": "82ad38a7-7b57-411d-8524-da9c141cfd51",
   "metadata": {},
   "source": [
    "The above code applied the concept ofpadding, and normaliaztion, this makes the mean input roughly 0, and the variance roughly 1 which accelerates learning according to the paer.\n"
   ]
  },
  {
   "cell_type": "code",
   "execution_count": 5,
   "id": "0fab9d3a-6c26-406a-90b0-0c36bfb31972",
   "metadata": {},
   "outputs": [
    {
     "data": {
      "text/plain": [
       "TensorShape([60000, 32, 32, 1])"
      ]
     },
     "execution_count": 5,
     "metadata": {},
     "output_type": "execute_result"
    }
   ],
   "source": [
    "X_train.shape\n"
   ]
  },
  {
   "cell_type": "code",
   "execution_count": 6,
   "id": "6449a01c-3336-4d31-bd1d-0c04527e2ca3",
   "metadata": {},
   "outputs": [
    {
     "data": {
      "text/plain": [
       "<matplotlib.image.AxesImage at 0x1fe2ef82710>"
      ]
     },
     "execution_count": 6,
     "metadata": {},
     "output_type": "execute_result"
    },
    {
     "data": {
      "image/png": "[encoded data removed]",
      "text/plain": [
       "<Figure size 500x500 with 1 Axes>"
      ]
     },
     "metadata": {},
     "output_type": "display_data"
    }
   ],
   "source": [
    "plt.figure(figsize = (5, 5))\n",
    "plt.imshow(X_train[0])\n"
   ]
  },
  {
   "cell_type": "markdown",
   "id": "576e72a0-5891-4c7a-b9c7-6667bc39d4c8",
   "metadata": {},
   "source": [
    "A simple plot to show an instance of the MNIST dataset"
   ]
  },
  {
   "cell_type": "code",
   "execution_count": 7,
   "id": "2d4bf94b-bf1d-4df8-acad-65ecc4d60ab3",
   "metadata": {},
   "outputs": [
    {
     "name": "stderr",
     "output_type": "stream",
     "text": [
      "C:\\Users\\User\\tf_env\\Lib\\site-packages\\keras\\src\\layers\\convolutional\\base_conv.py:113: UserWarning: Do not pass an `input_shape`/`input_dim` argument to a layer. When using Sequential models, prefer using an `Input(shape)` object as the first layer in the model instead.\n",
      "  super().__init__(activity_regularizer=activity_regularizer, **kwargs)\n"
     ]
    },
    {
     "name": "stdout",
     "output_type": "stream",
     "text": [
      "Epoch 1/10\n",
      "\u001b[1m1875/1875\u001b[0m \u001b[32m━━━━━━━━━━━━━━━━━━━━\u001b[0m\u001b[37m\u001b[0m \u001b[1m18s\u001b[0m 9ms/step - accuracy: 0.8477 - loss: 0.4894\n",
      "Epoch 2/10\n",
      "\u001b[1m1875/1875\u001b[0m \u001b[32m━━━━━━━━━━━━━━━━━━━━\u001b[0m\u001b[37m\u001b[0m \u001b[1m17s\u001b[0m 9ms/step - accuracy: 0.9727 - loss: 0.0895\n",
      "Epoch 3/10\n",
      "\u001b[1m1875/1875\u001b[0m \u001b[32m━━━━━━━━━━━━━━━━━━━━\u001b[0m\u001b[37m\u001b[0m \u001b[1m17s\u001b[0m 9ms/step - accuracy: 0.9830 - loss: 0.0565\n",
      "Epoch 4/10\n",
      "\u001b[1m1875/1875\u001b[0m \u001b[32m━━━━━━━━━━━━━━━━━━━━\u001b[0m\u001b[37m\u001b[0m \u001b[1m18s\u001b[0m 10ms/step - accuracy: 0.9852 - loss: 0.0467\n",
      "Epoch 5/10\n",
      "\u001b[1m1875/1875\u001b[0m \u001b[32m━━━━━━━━━━━━━━━━━━━━\u001b[0m\u001b[37m\u001b[0m \u001b[1m20s\u001b[0m 10ms/step - accuracy: 0.9895 - loss: 0.0349\n",
      "Epoch 6/10\n",
      "\u001b[1m1875/1875\u001b[0m \u001b[32m━━━━━━━━━━━━━━━━━━━━\u001b[0m\u001b[37m\u001b[0m \u001b[1m18s\u001b[0m 10ms/step - accuracy: 0.9913 - loss: 0.0287\n",
      "Epoch 7/10\n",
      "\u001b[1m1875/1875\u001b[0m \u001b[32m━━━━━━━━━━━━━━━━━━━━\u001b[0m\u001b[37m\u001b[0m \u001b[1m17s\u001b[0m 9ms/step - accuracy: 0.9925 - loss: 0.0224\n",
      "Epoch 8/10\n",
      "\u001b[1m1875/1875\u001b[0m \u001b[32m━━━━━━━━━━━━━━━━━━━━\u001b[0m\u001b[37m\u001b[0m \u001b[1m16s\u001b[0m 8ms/step - accuracy: 0.9938 - loss: 0.0191\n",
      "Epoch 9/10\n",
      "\u001b[1m1875/1875\u001b[0m \u001b[32m━━━━━━━━━━━━━━━━━━━━\u001b[0m\u001b[37m\u001b[0m \u001b[1m16s\u001b[0m 9ms/step - accuracy: 0.9959 - loss: 0.0144\n",
      "Epoch 10/10\n",
      "\u001b[1m1875/1875\u001b[0m \u001b[32m━━━━━━━━━━━━━━━━━━━━\u001b[0m\u001b[37m\u001b[0m \u001b[1m16s\u001b[0m 9ms/step - accuracy: 0.9962 - loss: 0.0131\n"
     ]
    },
    {
     "data": {
      "text/plain": [
       "<keras.src.callbacks.history.History at 0x1fe2f0fd110>"
      ]
     },
     "execution_count": 7,
     "metadata": {},
     "output_type": "execute_result"
    }
   ],
   "source": [
    "model = keras.Sequential([\n",
    "layers.Conv2D(filters = 6, kernel_size =(5, 5), input_shape =(32,32,1), activation = 'tanh'),\n",
    "layers.AveragePooling2D(pool_size = 2,strides= 2),\n",
    "\n",
    "layers.Conv2D(filters= 16, kernel_size =(5,5), activation = 'tanh'),\n",
    "layers.AveragePooling2D(pool_size = 2, strides = 2),\n",
    "layers.Conv2D(filters = 120, kernel_size =(5,5), activation = 'tanh'),\n",
    "\n",
    "\n",
    "layers.Flatten(),\n",
    "layers.Dense(84, activation = 'tanh'),\n",
    "layers.Dense(10, activation = 'softmax')\n",
    "])\n",
    "\n",
    "model.compile(\n",
    "    optimizer =tf.keras.optimizers.SGD(learning_rate = 0.01, momentum = 0.9),\n",
    "    loss = 'sparse_categorical_crossentropy',\n",
    "    metrics=['accuracy']\n",
    "    \n",
    ")\n",
    "\n",
    "model.fit(X_train, y_train, epochs = 10)\n"
   ]
  },
  {
   "cell_type": "markdown",
   "id": "e74720af-703e-4e38-abc1-042ebd9b5e9e",
   "metadata": {},
   "source": [
    "The above code, create a Convolutional neural network(CNN) made to handle the variability of the 2D inputs- Letnet-5.\n",
    "Its architecture is written with specification from the research paper for reproducibility."
   ]
  },
  {
   "cell_type": "code",
   "execution_count": 8,
   "id": "68f16ed6-8dea-4b39-9c73-d954f36a9d3c",
   "metadata": {},
   "outputs": [
    {
     "name": "stdout",
     "output_type": "stream",
     "text": [
      "\u001b[1m313/313\u001b[0m \u001b[32m━━━━━━━━━━━━━━━━━━━━\u001b[0m\u001b[37m\u001b[0m \u001b[1m2s\u001b[0m 4ms/step - accuracy: 0.9838 - loss: 0.0458\n",
      "Test accuracy: 0.9873\n",
      "Test inaccuracy: 0.0400\n"
     ]
    }
   ],
   "source": [
    "test_loss, test_acc = model.evaluate(X_test, y_test)\n",
    "print(f\"Test accuracy: {test_acc:.4f}\")\n",
    "print(f\"Test inaccuracy: {test_loss:.4f}\")"
   ]
  },
  {
   "cell_type": "markdown",
   "id": "18033fb4-f68e-47d0-bd4f-53e5cc3449f9",
   "metadata": {},
   "source": [
    "An evaluation done on test set, to compute accuracy score, and inaccuracy score(loss), which were recorded to be 0.9873 and0.0400 respectively.\n",
    "Very close to the reported accuracy score in the LetNet-5's research paper's experimental implementation."
   ]
  }
 ],
 "metadata": {
  "kernelspec": {
   "display_name": "Python (tf_env)",
   "language": "python",
   "name": "tf_env"
  },
  "language_info": {
   "codemirror_mode": {
    "name": "ipython",
    "version": 3
   },
   "file_extension": ".py",
   "mimetype": "text/x-python",
   "name": "python",
   "nbconvert_exporter": "python",
   "pygments_lexer": "ipython3",
   "version": "3.11.9"
  }
 },
 "nbformat": 4,
 "nbformat_minor": 5
}
